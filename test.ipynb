{
 "cells": [
  {
   "cell_type": "code",
   "id": "initial_id",
   "metadata": {
    "collapsed": true,
    "ExecuteTime": {
     "end_time": "2024-09-06T06:13:35.367115Z",
     "start_time": "2024-09-06T06:13:34.832112Z"
    }
   },
   "source": [
    "import pandas as pd\n",
    "import time"
   ],
   "outputs": [],
   "execution_count": 1
  },
  {
   "metadata": {
    "ExecuteTime": {
     "end_time": "2024-09-06T06:14:22.439805Z",
     "start_time": "2024-09-06T06:14:22.436113Z"
    }
   },
   "cell_type": "code",
   "source": [
    "def read_and_time_feather(file_path):\n",
    "    start_time = time.time()\n",
    "    df = pd.read_feather(file_path)\n",
    "    end_time = time.time()\n",
    "    print(f\"Feather file loaded in {end_time - start_time:.4f} seconds\")\n",
    "    return df\n",
    "\n",
    "def read_and_time_pickle(file_path):\n",
    "    start_time = time.time()\n",
    "    df = pd.read_pickle(file_path)\n",
    "    end_time = time.time()\n",
    "    print(f\"Pickle file loaded in {end_time - start_time:.4f} seconds\")\n",
    "    return df"
   ],
   "id": "1d228147fdadf3f6",
   "outputs": [],
   "execution_count": 2
  },
  {
   "metadata": {
    "ExecuteTime": {
     "end_time": "2024-09-06T06:14:34.601834Z",
     "start_time": "2024-09-06T06:14:24.523671Z"
    }
   },
   "cell_type": "code",
   "source": [
    "feather_file = 'data/combined_data.feather'\n",
    "pickle_file = 'data/combined_data.pkl'\n",
    "\n",
    "print(\"Reading Feather file:\")\n",
    "df_feather = read_and_time_feather(feather_file)\n",
    "print(df_feather.head())\n",
    "\n",
    "print(\"\\nReading Pickle file:\")\n",
    "df_pickle = read_and_time_pickle(pickle_file)\n",
    "print(df_pickle.head())"
   ],
   "id": "ea53a2da3c80a4c4",
   "outputs": [
    {
     "name": "stdout",
     "output_type": "stream",
     "text": [
      "Reading Feather file:\n",
      "Feather file loaded in 8.0998 seconds\n",
      "          mmsi   longitude   latitude     cog  speed  \\\n",
      "0  413769307.0  106.663643  29.571108  3600.0    0.0   \n",
      "1  413834492.0  106.668709  29.575460     0.0    0.0   \n",
      "2  413870065.0  106.631256  29.595894     0.0    0.0   \n",
      "3  413816773.0  106.664909  29.572378     0.0    0.0   \n",
      "4  413816773.0  106.664955  29.572483   177.0    1.0   \n",
      "\n",
      "                    post_time  \n",
      "0  2023-05-21 15:53:11.000000  \n",
      "1  2023-05-21 15:53:12.000000  \n",
      "2  2023-05-21 15:53:13.000000  \n",
      "3  2023-05-21 15:53:14.000000  \n",
      "4  2023-05-21 15:53:15.000000  \n",
      "\n",
      "Reading Pickle file:\n",
      "Pickle file loaded in 1.9668 seconds\n",
      "          mmsi   longitude   latitude     cog  speed  \\\n",
      "0  413769307.0  106.663643  29.571108  3600.0    0.0   \n",
      "1  413834492.0  106.668709  29.575460     0.0    0.0   \n",
      "2  413870065.0  106.631256  29.595894     0.0    0.0   \n",
      "3  413816773.0  106.664909  29.572378     0.0    0.0   \n",
      "4  413816773.0  106.664955  29.572483   177.0    1.0   \n",
      "\n",
      "                    post_time  \n",
      "0  2023-05-21 15:53:11.000000  \n",
      "1  2023-05-21 15:53:12.000000  \n",
      "2  2023-05-21 15:53:13.000000  \n",
      "3  2023-05-21 15:53:14.000000  \n",
      "4  2023-05-21 15:53:15.000000  \n"
     ]
    }
   ],
   "execution_count": 3
  },
  {
   "metadata": {},
   "cell_type": "markdown",
   "source": [
    "## Conclusion\n",
    "\n",
    " - Feather file is slower to load than pickle file"
   ],
   "id": "4aac0d1ef324b6ac"
  }
 ],
 "metadata": {
  "kernelspec": {
   "display_name": "Python 3",
   "language": "python",
   "name": "python3"
  },
  "language_info": {
   "codemirror_mode": {
    "name": "ipython",
    "version": 2
   },
   "file_extension": ".py",
   "mimetype": "text/x-python",
   "name": "python",
   "nbconvert_exporter": "python",
   "pygments_lexer": "ipython2",
   "version": "2.7.6"
  }
 },
 "nbformat": 4,
 "nbformat_minor": 5
}
