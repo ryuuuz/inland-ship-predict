{
 "cells": [
  {
   "metadata": {},
   "cell_type": "markdown",
   "source": [
    "# Combine Data\n",
    "\n",
    "Combine data sources into combined_data.pkl"
   ],
   "id": "2460e759fca080da"
  },
  {
   "metadata": {
    "collapsed": true,
    "ExecuteTime": {
     "end_time": "2024-09-06T09:27:19.687506Z",
     "start_time": "2024-09-06T09:27:19.682323Z"
    }
   },
   "cell_type": "code",
   "source": [
    "import os\n",
    "import pandas as pd\n",
    "\n",
    "# 安全转换函数，避免数据错误导致读取失败\n",
    "def safe_int(x):\n",
    "    try:\n",
    "        return int(x)\n",
    "    except ValueError:\n",
    "        return None\n",
    "\n",
    "# 指定每列的数据类型，以优化读取速度\n",
    "dtype = {\n",
    "    'longitude': 'float32',  # 浮点型\n",
    "    'latitude': 'float32',  # 浮点型\n",
    "    'cog': 'float32',  # 浮点型\n",
    "    'heading': 'float32',  # 浮点型\n",
    "    'speed': 'float32',  # 浮点型\n",
    "}\n",
    "\n",
    "converters = {\n",
    "    'mmsi': safe_int\n",
    "}\n",
    "\n",
    "# 获取当前脚本的路径\n",
    "current_dir = os.getcwd()\n",
    "\n",
    "# 指定主目录路径\n",
    "source_data_path = os.path.join(current_dir, '..', 'data/raw')\n",
    "\n",
    "# 输出文件夹路径\n",
    "combined_data_path = os.path.join(current_dir, '..', 'output')\n",
    "\n",
    "# 初始化一个空的DataFrame用于存放合并后的数据\n",
    "df_combined = pd.DataFrame()"
   ],
   "id": "initial_id",
   "outputs": [],
   "execution_count": 11
  },
  {
   "metadata": {
    "ExecuteTime": {
     "end_time": "2024-09-06T09:28:38.892931Z",
     "start_time": "2024-09-06T09:27:19.699515Z"
    }
   },
   "cell_type": "code",
   "source": [
    "# 遍历所有文件夹和子文件夹\n",
    "for root, dirs, files in os.walk(source_data_path):\n",
    "    for file in files:\n",
    "        if file.endswith('.csv'):\n",
    "            file_path = os.path.join(root, file)\n",
    "\n",
    "            # 先读取文件头以检查包含的列\n",
    "            temp_df = pd.read_csv(file_path, nrows=0)\n",
    "            if 'post_time' in temp_df.columns:\n",
    "                parse_dates = ['post_time']\n",
    "\n",
    "                # 读取CSV文件\n",
    "                df = pd.read_csv(file_path, dtype=dtype, converters=converters, parse_dates=parse_dates,\n",
    "                                 low_memory=False)\n",
    "                # 根据具体情况选择必要的字段进行提取\n",
    "                df = df[['mmsi', 'longitude', 'latitude', 'cog', 'speed', 'post_time']]\n",
    "            elif 'ts' in temp_df.columns:\n",
    "                parse_dates = ['ts']\n",
    "\n",
    "                # 读取CSV文件\n",
    "                df = pd.read_csv(file_path, dtype=dtype, converters=converters, parse_dates=parse_dates,\n",
    "                                 low_memory=False)\n",
    "                # 根据具体情况选择必要的字段进行提取和重命名\n",
    "                df = df[['mmsi', 'longitude', 'latitude', 'heading', 'speed', 'ts']]\n",
    "                df.rename(columns={'ts': 'post_time', 'heading': 'cog'}, inplace=True)\n",
    "\n",
    "            else:\n",
    "                print(f\"Skipping file {file} as it does not contain 'post_time' or 'ts' columns.\")\n",
    "                continue\n",
    "\n",
    "            # 合并数据到df_combined中\n",
    "            df_combined = pd.concat([df_combined, df], ignore_index=True)\n",
    "\n",
    "            print(f\"Processed {file_path}\")\n",
    "\n",
    "# # 将post_time列转换为日期时间格式，并移除多余位数\n",
    "df_combined['post_time'] = df_combined['post_time'].dt.strftime('%Y-%m-%d %H:%M:%S.%f')"
   ],
   "id": "9feea63c3040c1b6",
   "outputs": [
    {
     "name": "stdout",
     "output_type": "stream",
     "text": [
      "Processed C:\\Projects\\PycharmProjects\\inland-ship-predict\\scripts\\..\\data/raw\\1. cq_tlx_device_1 export\\1. cq_tlx_device_1 export\\cq_tlx_device1_202405282229.csv\n",
      "Processed C:\\Projects\\PycharmProjects\\inland-ship-predict\\scripts\\..\\data/raw\\1. cq_tlx_device_1 export\\1. cq_tlx_device_1 export\\cq_tlx_device1_202405282229_2.csv\n",
      "Processed C:\\Projects\\PycharmProjects\\inland-ship-predict\\scripts\\..\\data/raw\\1. cq_tlx_device_1 export\\1. cq_tlx_device_1 export\\cq_tlx_device1_202405282229_3.csv\n",
      "Processed C:\\Projects\\PycharmProjects\\inland-ship-predict\\scripts\\..\\data/raw\\1. cq_tlx_device_1 export\\1. cq_tlx_device_1 export\\cq_tlx_device1_202405282229_4.csv\n",
      "Processed C:\\Projects\\PycharmProjects\\inland-ship-predict\\scripts\\..\\data/raw\\1. cq_tlx_device_1 export\\1. cq_tlx_device_1 export\\cq_tlx_device1_202405282229_5.csv\n",
      "Processed C:\\Projects\\PycharmProjects\\inland-ship-predict\\scripts\\..\\data/raw\\2. cq_tlx_dynamic_ais1 export\\cq_tlx_dynamic_ais1_202405282248.csv\n",
      "Processed C:\\Projects\\PycharmProjects\\inland-ship-predict\\scripts\\..\\data/raw\\2. cq_tlx_dynamic_ais1 export\\cq_tlx_dynamic_ais1_202405282248_2.csv\n",
      "Processed C:\\Projects\\PycharmProjects\\inland-ship-predict\\scripts\\..\\data/raw\\2. cq_tlx_dynamic_ais1 export\\cq_tlx_dynamic_ais1_202405282248_3.csv\n",
      "Processed C:\\Projects\\PycharmProjects\\inland-ship-predict\\scripts\\..\\data/raw\\2. cq_tlx_dynamic_ais1 export\\cq_tlx_dynamic_ais1_202405282248_4.csv\n",
      "Processed C:\\Projects\\PycharmProjects\\inland-ship-predict\\scripts\\..\\data/raw\\2024-05-28 保存所有重庆\\ship_ais_all.csv\n"
     ]
    }
   ],
   "execution_count": 12
  },
  {
   "metadata": {
    "ExecuteTime": {
     "end_time": "2024-09-06T09:28:45.814930Z",
     "start_time": "2024-09-06T09:28:38.903388Z"
    }
   },
   "cell_type": "code",
   "source": [
    "# 保存合并后的数据为Feather格式\n",
    "df_combined.to_feather(combined_data_path + '/combined_data.feather')\n",
    "print(f\"Combined data saved to {combined_data_path + '/combined_data.feather'}\")\n",
    "\n",
    "# 保存合并后的数据为Pickel格式\n",
    "df_combined.to_pickle(combined_data_path + '/combined_data.pkl')\n",
    "print(f\"Combined data saved to {combined_data_path + '/combined_data.pkl'}\")"
   ],
   "id": "42b9f82fce9b8540",
   "outputs": [
    {
     "name": "stdout",
     "output_type": "stream",
     "text": [
      "Combined data saved to C:\\Projects\\PycharmProjects\\inland-ship-predict\\scripts\\..\\output/combined_data.feather\n",
      "Combined data saved to C:\\Projects\\PycharmProjects\\inland-ship-predict\\scripts\\..\\output/combined_data.pkl\n"
     ]
    }
   ],
   "execution_count": 13
  },
  {
   "metadata": {
    "ExecuteTime": {
     "end_time": "2024-09-06T09:29:08.906548Z",
     "start_time": "2024-09-06T09:29:07.445774Z"
    }
   },
   "cell_type": "code",
   "source": [
    "# 读取合并后的数据\n",
    "df_combined = pd.read_pickle(combined_data_path + '/combined_data.pkl')\n",
    "df_combined.head()"
   ],
   "id": "4ef372a902941cb9",
   "outputs": [
    {
     "data": {
      "text/plain": [
       "          mmsi   longitude   latitude     cog  speed  \\\n",
       "0  413769307.0  106.663643  29.571108  3600.0    0.0   \n",
       "1  413834492.0  106.668709  29.575460     0.0    0.0   \n",
       "2  413870065.0  106.631256  29.595894     0.0    0.0   \n",
       "3  413816773.0  106.664909  29.572378     0.0    0.0   \n",
       "4  413816773.0  106.664955  29.572483   177.0    1.0   \n",
       "\n",
       "                    post_time  \n",
       "0  2023-05-21 15:53:11.000000  \n",
       "1  2023-05-21 15:53:12.000000  \n",
       "2  2023-05-21 15:53:13.000000  \n",
       "3  2023-05-21 15:53:14.000000  \n",
       "4  2023-05-21 15:53:15.000000  "
      ],
      "text/html": [
       "<div>\n",
       "<style scoped>\n",
       "    .dataframe tbody tr th:only-of-type {\n",
       "        vertical-align: middle;\n",
       "    }\n",
       "\n",
       "    .dataframe tbody tr th {\n",
       "        vertical-align: top;\n",
       "    }\n",
       "\n",
       "    .dataframe thead th {\n",
       "        text-align: right;\n",
       "    }\n",
       "</style>\n",
       "<table border=\"1\" class=\"dataframe\">\n",
       "  <thead>\n",
       "    <tr style=\"text-align: right;\">\n",
       "      <th></th>\n",
       "      <th>mmsi</th>\n",
       "      <th>longitude</th>\n",
       "      <th>latitude</th>\n",
       "      <th>cog</th>\n",
       "      <th>speed</th>\n",
       "      <th>post_time</th>\n",
       "    </tr>\n",
       "  </thead>\n",
       "  <tbody>\n",
       "    <tr>\n",
       "      <th>0</th>\n",
       "      <td>413769307.0</td>\n",
       "      <td>106.663643</td>\n",
       "      <td>29.571108</td>\n",
       "      <td>3600.0</td>\n",
       "      <td>0.0</td>\n",
       "      <td>2023-05-21 15:53:11.000000</td>\n",
       "    </tr>\n",
       "    <tr>\n",
       "      <th>1</th>\n",
       "      <td>413834492.0</td>\n",
       "      <td>106.668709</td>\n",
       "      <td>29.575460</td>\n",
       "      <td>0.0</td>\n",
       "      <td>0.0</td>\n",
       "      <td>2023-05-21 15:53:12.000000</td>\n",
       "    </tr>\n",
       "    <tr>\n",
       "      <th>2</th>\n",
       "      <td>413870065.0</td>\n",
       "      <td>106.631256</td>\n",
       "      <td>29.595894</td>\n",
       "      <td>0.0</td>\n",
       "      <td>0.0</td>\n",
       "      <td>2023-05-21 15:53:13.000000</td>\n",
       "    </tr>\n",
       "    <tr>\n",
       "      <th>3</th>\n",
       "      <td>413816773.0</td>\n",
       "      <td>106.664909</td>\n",
       "      <td>29.572378</td>\n",
       "      <td>0.0</td>\n",
       "      <td>0.0</td>\n",
       "      <td>2023-05-21 15:53:14.000000</td>\n",
       "    </tr>\n",
       "    <tr>\n",
       "      <th>4</th>\n",
       "      <td>413816773.0</td>\n",
       "      <td>106.664955</td>\n",
       "      <td>29.572483</td>\n",
       "      <td>177.0</td>\n",
       "      <td>1.0</td>\n",
       "      <td>2023-05-21 15:53:15.000000</td>\n",
       "    </tr>\n",
       "  </tbody>\n",
       "</table>\n",
       "</div>"
      ]
     },
     "execution_count": 15,
     "metadata": {},
     "output_type": "execute_result"
    }
   ],
   "execution_count": 15
  }
 ],
 "metadata": {
  "kernelspec": {
   "display_name": "Python 3",
   "language": "python",
   "name": "python3"
  },
  "language_info": {
   "codemirror_mode": {
    "name": "ipython",
    "version": 2
   },
   "file_extension": ".py",
   "mimetype": "text/x-python",
   "name": "python",
   "nbconvert_exporter": "python",
   "pygments_lexer": "ipython2",
   "version": "2.7.6"
  }
 },
 "nbformat": 4,
 "nbformat_minor": 5
}
