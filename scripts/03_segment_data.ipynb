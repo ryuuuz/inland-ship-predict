{
 "cells": [
  {
   "metadata": {},
   "cell_type": "markdown",
   "source": [
    "# Segment Data\n",
    "Segment trajectories to segment_data.pkl"
   ],
   "id": "1c974404a22c8b03"
  },
  {
   "metadata": {
    "collapsed": true,
    "ExecuteTime": {
     "end_time": "2024-09-06T13:39:26.972691Z",
     "start_time": "2024-09-06T13:39:07.319922Z"
    }
   },
   "cell_type": "code",
   "source": [
    "import os\n",
    "import pandas as pd\n",
    "import geopandas as gpd\n",
    "from shapely.geometry import LineString\n",
    "\n",
    "# 获取当前脚本的路径\n",
    "current_dir = os.getcwd()\n",
    "\n",
    "# 文件夹路径\n",
    "data_path = os.path.join(current_dir, '..', 'output')\n",
    "\n",
    "# 加载数据\n",
    "filtered_data = pd.read_pickle(data_path + '/filtered_data.pkl')\n",
    "filtered_data['post_time'] = pd.to_datetime(filtered_data['post_time'])\n",
    "filtered_data.sort_values(['mmsi', 'post_time'], inplace=True)\n",
    "\n",
    "# 计算每个数据点与前一个数据点的时间差\n",
    "filtered_data['time_diff'] = filtered_data.groupby('mmsi')['post_time'].diff()\n",
    "\n",
    "# 标记超过30分钟的时间差为新轨迹段的开始\n",
    "filtered_data['new_segment'] = filtered_data['time_diff'] > pd.Timedelta(minutes=30)\n",
    "\n",
    "# 确保每个 mmsi 的第一个点标记为新轨迹的开始\n",
    "filtered_data.loc[0, 'new_segment'] = True\n",
    "\n",
    "# 生成轨迹段ID\n",
    "filtered_data['segment_id'] = filtered_data['new_segment'].cumsum()"
   ],
   "id": "initial_id",
   "outputs": [],
   "execution_count": 52
  },
  {
   "metadata": {
    "ExecuteTime": {
     "end_time": "2024-09-06T13:43:35.323078Z",
     "start_time": "2024-09-06T13:41:21.534930Z"
    }
   },
   "cell_type": "code",
   "source": [
    "import geopandas as gpd\n",
    "from shapely.geometry import LineString\n",
    "\n",
    "# 创建 GeoDataFrame\n",
    "gdf = gpd.GeoDataFrame(filtered_data, geometry=gpd.points_from_xy(filtered_data.longitude, filtered_data.latitude))\n",
    "\n",
    "# 设置 CRS (假设是 WGS84 坐标系)\n",
    "gdf.crs = \"EPSG:4326\"\n",
    "\n",
    "# 转换为线形 GeoDataFrame\n",
    "lines = gdf.groupby(['mmsi', 'segment_id']).apply(\n",
    "    lambda x: LineString(x['geometry'].tolist()) if len(x) > 1 else None, include_groups=False\n",
    ").dropna()\n",
    "\n",
    "# 重新生成GeoDataFrame并设置几何列和CRS\n",
    "line_gdf = gpd.GeoDataFrame(lines, columns=['geometry']).reset_index()\n",
    "line_gdf = line_gdf.set_geometry('geometry')\n",
    "\n",
    "# 确保MMSI是字符串\n",
    "line_gdf['mmsi'] = line_gdf['mmsi'].astype(str)\n",
    "\n",
    "# 如果有需要, 可以设置CRS\n",
    "line_gdf.crs = gdf.crs"
   ],
   "id": "6be51295fecee9a6",
   "outputs": [
    {
     "name": "stderr",
     "output_type": "stream",
     "text": [
      "C:\\Users\\ryzcq\\AppData\\Local\\Temp\\ipykernel_30240\\3859749798.py:11: DeprecationWarning: DataFrameGroupBy.apply operated on the grouping columns. This behavior is deprecated, and in a future version of pandas the grouping columns will be excluded from the operation. Either pass `include_groups=False` to exclude the groupings or explicitly select the grouping columns after groupby to silence this warning.\n",
      "  lines = gdf.groupby(['mmsi', 'segment_id']).apply(\n"
     ]
    }
   ],
   "execution_count": 54
  },
  {
   "metadata": {
    "ExecuteTime": {
     "end_time": "2024-09-06T13:43:51.799170Z",
     "start_time": "2024-09-06T13:43:48.941971Z"
    }
   },
   "cell_type": "code",
   "source": [
    "# 保存 segment_data.pkl\n",
    "filtered_data.to_pickle(data_path + '/segmented_data.pkl')\n",
    "\n",
    "# 保存 GeoDataFrame\n",
    "line_gdf.to_file(os.path.join(data_path + \"/saved_trajectories.shp\"))"
   ],
   "id": "9372ff7e3159d757",
   "outputs": [],
   "execution_count": 56
  },
  {
   "metadata": {
    "ExecuteTime": {
     "end_time": "2024-09-06T13:28:29.617483Z",
     "start_time": "2024-09-06T13:28:29.608362Z"
    }
   },
   "cell_type": "code",
   "source": "filtered_data.head(10)",
   "id": "547d2ed1a1ee83da",
   "outputs": [
    {
     "data": {
      "text/plain": [
       "         mmsi   longitude   latitude     cog  speed           post_time  \\\n",
       "103887    0.0  106.651237  29.594469   911.0   72.0 2023-05-23 15:11:57   \n",
       "471128    0.0  106.586693  29.576618     0.0    0.0 2023-06-01 06:11:53   \n",
       "472790    0.0  106.586655  29.576612     0.0    0.0 2023-06-01 06:48:10   \n",
       "515656    0.0  106.586670  29.576601     0.0    0.0 2023-06-02 01:46:06   \n",
       "540568    0.0  106.586670  29.576620     0.0    0.0 2023-06-02 13:13:09   \n",
       "569819    0.0  106.586655  29.576611     0.0    0.0 2023-06-03 01:40:38   \n",
       "623242    0.0  106.586693  29.576611     0.0    0.0 2023-06-04 05:48:09   \n",
       "2276479   0.0  106.627975  29.594999     0.0    0.0 2023-08-28 15:45:45   \n",
       "2276999   0.0  106.622787  29.612057  3332.0  214.0 2023-08-28 15:57:41   \n",
       "2724105   0.0  106.647430  29.591801   701.0  254.0 2023-09-06 10:18:17   \n",
       "\n",
       "               time_diff  new_segment  segment_id  \n",
       "103887               NaT        False           0  \n",
       "471128   8 days 14:59:56         True           1  \n",
       "472790   0 days 00:36:17         True           2  \n",
       "515656   0 days 18:57:56         True           3  \n",
       "540568   0 days 11:27:03         True           4  \n",
       "569819   0 days 12:27:29         True           5  \n",
       "623242   1 days 04:07:31         True           6  \n",
       "2276479 85 days 09:57:36         True           7  \n",
       "2276999  0 days 00:11:56        False           7  \n",
       "2724105  8 days 18:20:36         True           8  "
      ],
      "text/html": [
       "<div>\n",
       "<style scoped>\n",
       "    .dataframe tbody tr th:only-of-type {\n",
       "        vertical-align: middle;\n",
       "    }\n",
       "\n",
       "    .dataframe tbody tr th {\n",
       "        vertical-align: top;\n",
       "    }\n",
       "\n",
       "    .dataframe thead th {\n",
       "        text-align: right;\n",
       "    }\n",
       "</style>\n",
       "<table border=\"1\" class=\"dataframe\">\n",
       "  <thead>\n",
       "    <tr style=\"text-align: right;\">\n",
       "      <th></th>\n",
       "      <th>mmsi</th>\n",
       "      <th>longitude</th>\n",
       "      <th>latitude</th>\n",
       "      <th>cog</th>\n",
       "      <th>speed</th>\n",
       "      <th>post_time</th>\n",
       "      <th>time_diff</th>\n",
       "      <th>new_segment</th>\n",
       "      <th>segment_id</th>\n",
       "    </tr>\n",
       "  </thead>\n",
       "  <tbody>\n",
       "    <tr>\n",
       "      <th>103887</th>\n",
       "      <td>0.0</td>\n",
       "      <td>106.651237</td>\n",
       "      <td>29.594469</td>\n",
       "      <td>911.0</td>\n",
       "      <td>72.0</td>\n",
       "      <td>2023-05-23 15:11:57</td>\n",
       "      <td>NaT</td>\n",
       "      <td>False</td>\n",
       "      <td>0</td>\n",
       "    </tr>\n",
       "    <tr>\n",
       "      <th>471128</th>\n",
       "      <td>0.0</td>\n",
       "      <td>106.586693</td>\n",
       "      <td>29.576618</td>\n",
       "      <td>0.0</td>\n",
       "      <td>0.0</td>\n",
       "      <td>2023-06-01 06:11:53</td>\n",
       "      <td>8 days 14:59:56</td>\n",
       "      <td>True</td>\n",
       "      <td>1</td>\n",
       "    </tr>\n",
       "    <tr>\n",
       "      <th>472790</th>\n",
       "      <td>0.0</td>\n",
       "      <td>106.586655</td>\n",
       "      <td>29.576612</td>\n",
       "      <td>0.0</td>\n",
       "      <td>0.0</td>\n",
       "      <td>2023-06-01 06:48:10</td>\n",
       "      <td>0 days 00:36:17</td>\n",
       "      <td>True</td>\n",
       "      <td>2</td>\n",
       "    </tr>\n",
       "    <tr>\n",
       "      <th>515656</th>\n",
       "      <td>0.0</td>\n",
       "      <td>106.586670</td>\n",
       "      <td>29.576601</td>\n",
       "      <td>0.0</td>\n",
       "      <td>0.0</td>\n",
       "      <td>2023-06-02 01:46:06</td>\n",
       "      <td>0 days 18:57:56</td>\n",
       "      <td>True</td>\n",
       "      <td>3</td>\n",
       "    </tr>\n",
       "    <tr>\n",
       "      <th>540568</th>\n",
       "      <td>0.0</td>\n",
       "      <td>106.586670</td>\n",
       "      <td>29.576620</td>\n",
       "      <td>0.0</td>\n",
       "      <td>0.0</td>\n",
       "      <td>2023-06-02 13:13:09</td>\n",
       "      <td>0 days 11:27:03</td>\n",
       "      <td>True</td>\n",
       "      <td>4</td>\n",
       "    </tr>\n",
       "    <tr>\n",
       "      <th>569819</th>\n",
       "      <td>0.0</td>\n",
       "      <td>106.586655</td>\n",
       "      <td>29.576611</td>\n",
       "      <td>0.0</td>\n",
       "      <td>0.0</td>\n",
       "      <td>2023-06-03 01:40:38</td>\n",
       "      <td>0 days 12:27:29</td>\n",
       "      <td>True</td>\n",
       "      <td>5</td>\n",
       "    </tr>\n",
       "    <tr>\n",
       "      <th>623242</th>\n",
       "      <td>0.0</td>\n",
       "      <td>106.586693</td>\n",
       "      <td>29.576611</td>\n",
       "      <td>0.0</td>\n",
       "      <td>0.0</td>\n",
       "      <td>2023-06-04 05:48:09</td>\n",
       "      <td>1 days 04:07:31</td>\n",
       "      <td>True</td>\n",
       "      <td>6</td>\n",
       "    </tr>\n",
       "    <tr>\n",
       "      <th>2276479</th>\n",
       "      <td>0.0</td>\n",
       "      <td>106.627975</td>\n",
       "      <td>29.594999</td>\n",
       "      <td>0.0</td>\n",
       "      <td>0.0</td>\n",
       "      <td>2023-08-28 15:45:45</td>\n",
       "      <td>85 days 09:57:36</td>\n",
       "      <td>True</td>\n",
       "      <td>7</td>\n",
       "    </tr>\n",
       "    <tr>\n",
       "      <th>2276999</th>\n",
       "      <td>0.0</td>\n",
       "      <td>106.622787</td>\n",
       "      <td>29.612057</td>\n",
       "      <td>3332.0</td>\n",
       "      <td>214.0</td>\n",
       "      <td>2023-08-28 15:57:41</td>\n",
       "      <td>0 days 00:11:56</td>\n",
       "      <td>False</td>\n",
       "      <td>7</td>\n",
       "    </tr>\n",
       "    <tr>\n",
       "      <th>2724105</th>\n",
       "      <td>0.0</td>\n",
       "      <td>106.647430</td>\n",
       "      <td>29.591801</td>\n",
       "      <td>701.0</td>\n",
       "      <td>254.0</td>\n",
       "      <td>2023-09-06 10:18:17</td>\n",
       "      <td>8 days 18:20:36</td>\n",
       "      <td>True</td>\n",
       "      <td>8</td>\n",
       "    </tr>\n",
       "  </tbody>\n",
       "</table>\n",
       "</div>"
      ]
     },
     "execution_count": 47,
     "metadata": {},
     "output_type": "execute_result"
    }
   ],
   "execution_count": 47
  },
  {
   "metadata": {
    "ExecuteTime": {
     "end_time": "2024-09-06T13:21:11.736068Z",
     "start_time": "2024-09-06T13:21:11.730041Z"
    }
   },
   "cell_type": "code",
   "source": "filtered_data.info()",
   "id": "25ca4f90447f0c45",
   "outputs": [
    {
     "name": "stdout",
     "output_type": "stream",
     "text": [
      "<class 'pandas.core.frame.DataFrame'>\n",
      "Index: 16922954 entries, 103887 to 3470645\n",
      "Data columns (total 9 columns):\n",
      " #   Column       Dtype          \n",
      "---  ------       -----          \n",
      " 0   mmsi         float64        \n",
      " 1   longitude    float32        \n",
      " 2   latitude     float32        \n",
      " 3   cog          float32        \n",
      " 4   speed        float32        \n",
      " 5   post_time    datetime64[ns] \n",
      " 6   time_diff    timedelta64[ns]\n",
      " 7   new_segment  bool           \n",
      " 8   segment_id   int64          \n",
      "dtypes: bool(1), datetime64[ns](1), float32(4), float64(1), int64(1), timedelta64[ns](1)\n",
      "memory usage: 1.4 GB\n"
     ]
    }
   ],
   "execution_count": 41
  },
  {
   "metadata": {
    "ExecuteTime": {
     "end_time": "2024-09-06T14:03:51.593422Z",
     "start_time": "2024-09-06T14:03:50.952171Z"
    }
   },
   "cell_type": "code",
   "source": [
    "print(filtered_data['longitude'].describe())\n",
    "print(filtered_data['latitude'].describe())"
   ],
   "id": "780fb596f5ec9887",
   "outputs": [
    {
     "name": "stdout",
     "output_type": "stream",
     "text": [
      "count    1.692295e+07\n",
      "mean     1.066427e+02\n",
      "std      2.123554e-02\n",
      "min      1.065000e+02\n",
      "25%      1.066258e+02\n",
      "50%      1.066350e+02\n",
      "75%      1.066642e+02\n",
      "max      1.067000e+02\n",
      "Name: longitude, dtype: float64\n",
      "count    1.692295e+07\n",
      "mean     2.959095e+01\n",
      "std      1.430824e-02\n",
      "min      2.950000e+01\n",
      "25%      2.957572e+01\n",
      "50%      2.959253e+01\n",
      "75%      2.960149e+01\n",
      "max      2.969981e+01\n",
      "Name: latitude, dtype: float64\n"
     ]
    }
   ],
   "execution_count": 63
  },
  {
   "metadata": {
    "ExecuteTime": {
     "end_time": "2024-09-06T13:44:10.660534Z",
     "start_time": "2024-09-06T13:44:10.653155Z"
    }
   },
   "cell_type": "code",
   "source": "line_gdf.head(10)",
   "id": "c905a25c97df3829",
   "outputs": [
    {
     "data": {
      "text/plain": [
       "      mmsi  segment_id                                           geometry\n",
       "0      0.0           7  LINESTRING (106.62798 29.595, 106.62279 29.61206)\n",
       "1      0.0           9  LINESTRING (106.64959 29.59242, 106.62792 29.5...\n",
       "2      0.0          10  LINESTRING (106.60794 29.62096, 106.62727 29.5...\n",
       "3  18907.0          10  LINESTRING (106.57319 29.56624, 106.57195 29.5...\n",
       "4  18907.0          11  LINESTRING (106.58002 29.57122, 106.58012 29.5...\n",
       "5  18907.0          12  LINESTRING (106.5806 29.57032, 106.5806 29.57032)\n",
       "6  18907.0          13  LINESTRING (106.59078 29.61503, 106.59078 29.6...\n",
       "7  18907.0          14  LINESTRING (106.5853 29.6074, 106.58534 29.607...\n",
       "8  18907.0          15  LINESTRING (106.58031 29.5699, 106.58031 29.5699)\n",
       "9  18907.0          16  LINESTRING (106.57358 29.56673, 106.56768 29.5..."
      ],
      "text/html": [
       "<div>\n",
       "<style scoped>\n",
       "    .dataframe tbody tr th:only-of-type {\n",
       "        vertical-align: middle;\n",
       "    }\n",
       "\n",
       "    .dataframe tbody tr th {\n",
       "        vertical-align: top;\n",
       "    }\n",
       "\n",
       "    .dataframe thead th {\n",
       "        text-align: right;\n",
       "    }\n",
       "</style>\n",
       "<table border=\"1\" class=\"dataframe\">\n",
       "  <thead>\n",
       "    <tr style=\"text-align: right;\">\n",
       "      <th></th>\n",
       "      <th>mmsi</th>\n",
       "      <th>segment_id</th>\n",
       "      <th>geometry</th>\n",
       "    </tr>\n",
       "  </thead>\n",
       "  <tbody>\n",
       "    <tr>\n",
       "      <th>0</th>\n",
       "      <td>0.0</td>\n",
       "      <td>7</td>\n",
       "      <td>LINESTRING (106.62798 29.595, 106.62279 29.61206)</td>\n",
       "    </tr>\n",
       "    <tr>\n",
       "      <th>1</th>\n",
       "      <td>0.0</td>\n",
       "      <td>9</td>\n",
       "      <td>LINESTRING (106.64959 29.59242, 106.62792 29.5...</td>\n",
       "    </tr>\n",
       "    <tr>\n",
       "      <th>2</th>\n",
       "      <td>0.0</td>\n",
       "      <td>10</td>\n",
       "      <td>LINESTRING (106.60794 29.62096, 106.62727 29.5...</td>\n",
       "    </tr>\n",
       "    <tr>\n",
       "      <th>3</th>\n",
       "      <td>18907.0</td>\n",
       "      <td>10</td>\n",
       "      <td>LINESTRING (106.57319 29.56624, 106.57195 29.5...</td>\n",
       "    </tr>\n",
       "    <tr>\n",
       "      <th>4</th>\n",
       "      <td>18907.0</td>\n",
       "      <td>11</td>\n",
       "      <td>LINESTRING (106.58002 29.57122, 106.58012 29.5...</td>\n",
       "    </tr>\n",
       "    <tr>\n",
       "      <th>5</th>\n",
       "      <td>18907.0</td>\n",
       "      <td>12</td>\n",
       "      <td>LINESTRING (106.5806 29.57032, 106.5806 29.57032)</td>\n",
       "    </tr>\n",
       "    <tr>\n",
       "      <th>6</th>\n",
       "      <td>18907.0</td>\n",
       "      <td>13</td>\n",
       "      <td>LINESTRING (106.59078 29.61503, 106.59078 29.6...</td>\n",
       "    </tr>\n",
       "    <tr>\n",
       "      <th>7</th>\n",
       "      <td>18907.0</td>\n",
       "      <td>14</td>\n",
       "      <td>LINESTRING (106.5853 29.6074, 106.58534 29.607...</td>\n",
       "    </tr>\n",
       "    <tr>\n",
       "      <th>8</th>\n",
       "      <td>18907.0</td>\n",
       "      <td>15</td>\n",
       "      <td>LINESTRING (106.58031 29.5699, 106.58031 29.5699)</td>\n",
       "    </tr>\n",
       "    <tr>\n",
       "      <th>9</th>\n",
       "      <td>18907.0</td>\n",
       "      <td>16</td>\n",
       "      <td>LINESTRING (106.57358 29.56673, 106.56768 29.5...</td>\n",
       "    </tr>\n",
       "  </tbody>\n",
       "</table>\n",
       "</div>"
      ]
     },
     "execution_count": 60,
     "metadata": {},
     "output_type": "execute_result"
    }
   ],
   "execution_count": 60
  },
  {
   "metadata": {
    "ExecuteTime": {
     "end_time": "2024-09-06T13:44:07.667128Z",
     "start_time": "2024-09-06T13:44:07.657847Z"
    }
   },
   "cell_type": "code",
   "source": "line_gdf.info()",
   "id": "b5638572f6c46d3",
   "outputs": [
    {
     "name": "stdout",
     "output_type": "stream",
     "text": [
      "<class 'geopandas.geodataframe.GeoDataFrame'>\n",
      "RangeIndex: 36509 entries, 0 to 36508\n",
      "Data columns (total 3 columns):\n",
      " #   Column      Non-Null Count  Dtype   \n",
      "---  ------      --------------  -----   \n",
      " 0   mmsi        36509 non-null  object  \n",
      " 1   segment_id  36509 non-null  int64   \n",
      " 2   geometry    36509 non-null  geometry\n",
      "dtypes: geometry(1), int64(1), object(1)\n",
      "memory usage: 855.8+ KB\n"
     ]
    }
   ],
   "execution_count": 59
  }
 ],
 "metadata": {
  "kernelspec": {
   "display_name": "Python 3",
   "language": "python",
   "name": "python3"
  },
  "language_info": {
   "codemirror_mode": {
    "name": "ipython",
    "version": 2
   },
   "file_extension": ".py",
   "mimetype": "text/x-python",
   "name": "python",
   "nbconvert_exporter": "python",
   "pygments_lexer": "ipython2",
   "version": "2.7.6"
  }
 },
 "nbformat": 4,
 "nbformat_minor": 5
}
