{
 "cells": [
  {
   "metadata": {},
   "cell_type": "markdown",
   "source": [
    "# Preprocess Data\n",
    "Preprocess to filtered_data.pkl"
   ],
   "id": "b88e3c810d0f4ad"
  },
  {
   "metadata": {
    "collapsed": true,
    "ExecuteTime": {
     "end_time": "2024-09-06T12:29:54.708016Z",
     "start_time": "2024-09-06T12:29:54.704070Z"
    }
   },
   "cell_type": "code",
   "source": [
    "import os\n",
    "import pandas as pd\n",
    "\n",
    "# 获取当前脚本的路径\n",
    "current_dir = os.getcwd()\n",
    "\n",
    "# 文件夹路径\n",
    "data_path = os.path.join(current_dir, '..', 'output')\n",
    "\n",
    "lon_min = 106.5\n",
    "lon_max = 106.7\n",
    "lat_min = 29.5\n",
    "lat_max = 29.7\n",
    "\n",
    "def process_data(data):\n",
    "    # 1. 筛选数据\n",
    "    data = data[(data['longitude'] >= lon_min) & (data['longitude'] <= lon_max) & (data['latitude'] >= lat_min) & (data['latitude'] <= lat_max)]\n",
    "    # 2. 保存数据\n",
    "    return data\n"
   ],
   "id": "initial_id",
   "outputs": [],
   "execution_count": 17
  },
  {
   "metadata": {
    "ExecuteTime": {
     "end_time": "2024-09-06T12:30:02.776568Z",
     "start_time": "2024-09-06T12:29:54.720567Z"
    }
   },
   "cell_type": "code",
   "source": [
    "# filtered_data = process_data(pkl_file_path, geojson_file_path, max_distance)\n",
    "filtered_data = pd.read_pickle(data_path + '/combined_data.pkl')\n",
    "\n",
    "filtered_data = process_data(filtered_data)\n",
    "\n",
    "filtered_data.to_pickle(data_path + '/filtered_data.pkl')\n",
    "print(f\"Filtered data saved to {data_path}\")"
   ],
   "id": "4d9cda729cc1bc80",
   "outputs": [
    {
     "name": "stdout",
     "output_type": "stream",
     "text": [
      "Filtered data saved to C:\\Projects\\PycharmProjects\\inland-ship-predict\\scripts\\..\\output\n"
     ]
    }
   ],
   "execution_count": 18
  }
 ],
 "metadata": {
  "kernelspec": {
   "display_name": "Python 3",
   "language": "python",
   "name": "python3"
  },
  "language_info": {
   "codemirror_mode": {
    "name": "ipython",
    "version": 2
   },
   "file_extension": ".py",
   "mimetype": "text/x-python",
   "name": "python",
   "nbconvert_exporter": "python",
   "pygments_lexer": "ipython2",
   "version": "2.7.6"
  }
 },
 "nbformat": 4,
 "nbformat_minor": 5
}
